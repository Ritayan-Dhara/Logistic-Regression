{
 "cells": [
  {
   "cell_type": "code",
   "execution_count": 1,
   "metadata": {},
   "outputs": [],
   "source": [
    "import numpy as np\n",
    "import pandas as pd\n",
    "from sklearn.model_selection import train_test_split,cross_val_score\n",
    "from sklearn.metrics import accuracy_score"
   ]
  },
  {
   "cell_type": "code",
   "execution_count": 2,
   "metadata": {},
   "outputs": [],
   "source": [
    "data = pd.read_csv('dataset.txt', sep=\",\")"
   ]
  },
  {
   "cell_type": "code",
   "execution_count": 3,
   "metadata": {},
   "outputs": [
    {
     "data": {
      "text/html": [
       "<div>\n",
       "<style scoped>\n",
       "    .dataframe tbody tr th:only-of-type {\n",
       "        vertical-align: middle;\n",
       "    }\n",
       "\n",
       "    .dataframe tbody tr th {\n",
       "        vertical-align: top;\n",
       "    }\n",
       "\n",
       "    .dataframe thead th {\n",
       "        text-align: right;\n",
       "    }\n",
       "</style>\n",
       "<table border=\"1\" class=\"dataframe\">\n",
       "  <thead>\n",
       "    <tr style=\"text-align: right;\">\n",
       "      <th></th>\n",
       "      <th>Marks_1</th>\n",
       "      <th>Marks_2</th>\n",
       "      <th>Result</th>\n",
       "    </tr>\n",
       "  </thead>\n",
       "  <tbody>\n",
       "    <tr>\n",
       "      <td>86</td>\n",
       "      <td>42.075455</td>\n",
       "      <td>78.844786</td>\n",
       "      <td>0</td>\n",
       "    </tr>\n",
       "    <tr>\n",
       "      <td>94</td>\n",
       "      <td>89.845807</td>\n",
       "      <td>45.358284</td>\n",
       "      <td>1</td>\n",
       "    </tr>\n",
       "    <tr>\n",
       "      <td>42</td>\n",
       "      <td>94.443368</td>\n",
       "      <td>65.568922</td>\n",
       "      <td>1</td>\n",
       "    </tr>\n",
       "  </tbody>\n",
       "</table>\n",
       "</div>"
      ],
      "text/plain": [
       "      Marks_1    Marks_2  Result\n",
       "86  42.075455  78.844786       0\n",
       "94  89.845807  45.358284       1\n",
       "42  94.443368  65.568922       1"
      ]
     },
     "execution_count": 3,
     "metadata": {},
     "output_type": "execute_result"
    }
   ],
   "source": [
    "data.sample(3)"
   ]
  },
  {
   "cell_type": "code",
   "execution_count": 4,
   "metadata": {},
   "outputs": [
    {
     "name": "stdout",
     "output_type": "stream",
     "text": [
      "<class 'pandas.core.frame.DataFrame'>\n",
      "RangeIndex: 100 entries, 0 to 99\n",
      "Data columns (total 3 columns):\n",
      "Marks_1    100 non-null float64\n",
      "Marks_2    100 non-null float64\n",
      "Result     100 non-null int64\n",
      "dtypes: float64(2), int64(1)\n",
      "memory usage: 2.5 KB\n"
     ]
    }
   ],
   "source": [
    "data.info()"
   ]
  },
  {
   "cell_type": "code",
   "execution_count": null,
   "metadata": {},
   "outputs": [],
   "source": []
  },
  {
   "cell_type": "code",
   "execution_count": 5,
   "metadata": {},
   "outputs": [],
   "source": [
    "class LogisticRegression():\n",
    "    def __init__(self,regularization=None,cost=0.01,w=0,b=0,iterations=100000,alpha=0.001):\n",
    "        self.regularization = regularization\n",
    "        self.cost = cost\n",
    "        self.iterations = iterations\n",
    "        self.wgt = w\n",
    "        self.bs = b\n",
    "        self.alpha = alpha\n",
    "        \n",
    "    def sigmoid(self,X_train,weight):\n",
    "        z = np.dot(X_train,weight)\n",
    "        return 1/(1 + np.exp(-z))\n",
    "    \n",
    "    def weights(self,weight,alpha,grad):\n",
    "        return weight - alpha*grad\n",
    "    \n",
    "    def loss(self,h,y):\n",
    "        if self.regularization == 'L1':\n",
    "            return (-y*np.log(h) - (1-y)*np.log(1-h)).mean() + ((1/self.cost)*(sum(abs(self.wgt))))/(2*y.shape[0])\n",
    "        elif self.regularization == 'L2':\n",
    "            return (-y*np.log(h) - (1-y)*np.log(1-h)).mean() + ((1/self.cost)*(sum(self.wgt**2)))/(2*y.shape[0])\n",
    "        else:\n",
    "            return (-y*np.log(h) - (1-y)*np.log(1-h)).mean()\n",
    "    \n",
    "    def gradientDescent(self,X_train,h,y):\n",
    "        return np.dot(X_train.T,(h-y))/y.shape[0]\n",
    "    \n",
    "    def fit(self,X_train,y_train):\n",
    "        self.wgt = np.zeros(X_train.shape[1])\n",
    "        \n",
    "        for i in range(self.iterations):\n",
    "            h = self.sigmoid(X_train,self.wgt)\n",
    "            gd = self.gradientDescent(X_train,h,y_train)\n",
    "            self.wgt = self.weights(self.wgt,self.alpha,gd)\n",
    "            \n",
    "        return self\n",
    "    \n",
    "    def predict(self,X_test):\n",
    "        y = self.sigmoid(X_test,self.wgt)\n",
    "        for i in range(len(y)):\n",
    "            if y[i] > 0.5:\n",
    "                y[i] = 1\n",
    "            else:\n",
    "                y[i] = 0\n",
    "        return y"
   ]
  },
  {
   "cell_type": "markdown",
   "metadata": {},
   "source": [
    "## Test"
   ]
  },
  {
   "cell_type": "code",
   "execution_count": 6,
   "metadata": {},
   "outputs": [],
   "source": [
    "X = np.array(data.iloc[:,:2].values)\n",
    "y = np.array(data.iloc[:,-1].values)\n",
    "\n",
    "X_train,X_test,y_train,y_test = train_test_split(X,y,test_size=0.2,random_state=16)"
   ]
  },
  {
   "cell_type": "code",
   "execution_count": 7,
   "metadata": {},
   "outputs": [
    {
     "name": "stdout",
     "output_type": "stream",
     "text": [
      "Accuracy = 0.85\n"
     ]
    }
   ],
   "source": [
    "# L1 Regularization\n",
    "\n",
    "lr = LogisticRegression(regularization='L1',iterations=100000,alpha=0.001)\n",
    "lr.fit(X_train,y_train)\n",
    "\n",
    "print(\"Accuracy =\", accuracy_score(y_test, lr.predict(X_test)) )"
   ]
  },
  {
   "cell_type": "code",
   "execution_count": 8,
   "metadata": {},
   "outputs": [
    {
     "name": "stdout",
     "output_type": "stream",
     "text": [
      "Accuracy = 0.85\n"
     ]
    }
   ],
   "source": [
    "# L2 Regularization\n",
    "\n",
    "lr = LogisticRegression(regularization='L2',iterations=100000,alpha=0.001)\n",
    "lr.fit(X_train,y_train)\n",
    "\n",
    "print(\"Accuracy =\", accuracy_score(y_test, lr.predict(X_test)) )"
   ]
  },
  {
   "cell_type": "code",
   "execution_count": null,
   "metadata": {},
   "outputs": [],
   "source": []
  }
 ],
 "metadata": {
  "kernelspec": {
   "display_name": "Python 3",
   "language": "python",
   "name": "python3"
  },
  "language_info": {
   "codemirror_mode": {
    "name": "ipython",
    "version": 3
   },
   "file_extension": ".py",
   "mimetype": "text/x-python",
   "name": "python",
   "nbconvert_exporter": "python",
   "pygments_lexer": "ipython3",
   "version": "3.7.4"
  }
 },
 "nbformat": 4,
 "nbformat_minor": 2
}
